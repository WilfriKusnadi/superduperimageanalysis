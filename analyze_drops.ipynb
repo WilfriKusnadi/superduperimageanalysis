!pip install opencv-python numpy matplotlib scipy
from google.colab import files
import cv2
import numpy as np
import matplotlib.pyplot as plt
from scipy.spatial import distance

# Upload image
uploaded = files.upload()
image_path = list(uploaded.keys())[0]

# Read image
image = cv2.imread(image_path)
gray = cv2.cvtColor(image, cv2.COLOR_BGR2GRAY)

# Preprocess
blur = cv2.GaussianBlur(gray, (5, 5), 0)
_, thresh = cv2.threshold(blur, 0, 255, cv2.THRESH_BINARY_INV + cv2.THRESH_OTSU)

# Find drops
contours, _ = cv2.findContours(thresh, cv2.RETR_EXTERNAL, cv2.CHAIN_APPROX_SIMPLE)
centers = []
for cnt in contours:
    area = cv2.contourArea(cnt)
    if area < 10:  # ignore very small specks
        continue
    (x, y), radius = cv2.minEnclosingCircle(cnt)
    centers.append((x, y))
    cv2.circle(image, (int(x), int(y)), int(radius), (0, 255, 0), 2)

# Distances between drops
for i in range(len(centers)):
    for j in range(i+1, len(centers)):
        dist = distance.euclidean(centers[i], centers[j])
        print(f"Drop {i} to {j}: {dist:.2f} pixels")

# Show result
plt.imshow(cv2.cvtColor(image, cv2.COLOR_BGR2RGB))
plt.axis("off")
plt.show()
