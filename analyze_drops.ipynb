{
  "nbformat": 4,
  "nbformat_minor": 0,
  "metadata": {
    "colab": {
      "provenance": [],
      "authorship_tag": "ABX9TyMugiFT1vWuPeLifqvO942H",
      "include_colab_link": true
    },
    "kernelspec": {
      "name": "python3",
      "display_name": "Python 3"
    },
    "language_info": {
      "name": "python"
    }
  },
  "cells": [
    {
      "cell_type": "markdown",
      "metadata": {
        "id": "view-in-github",
        "colab_type": "text"
      },
      "source": [
        "<a href=\"https://colab.research.google.com/github/WilfriKusnadi/superduperimageanalysis/blob/main/analyze_drops.ipynb\" target=\"_parent\"><img src=\"https://colab.research.google.com/assets/colab-badge.svg\" alt=\"Open In Colab\"/></a>"
      ]
    },
    {
      "cell_type": "code",
      "execution_count": null,
      "metadata": {
        "id": "W0joFgHctzvD"
      },
      "outputs": [],
      "source": [
        "!pip install opencv-python numpy matplotlib scipy\n"
      ]
    },
    {
      "cell_type": "code",
      "source": [
        "from google.colab import files\n",
        "import cv2\n",
        "import numpy as np\n",
        "import matplotlib.pyplot as plt\n",
        "from scipy.spatial import distance\n",
        "\n",
        "# Upload image\n",
        "uploaded = files.upload()\n",
        "image_path = list(uploaded.keys())[0]\n",
        "\n",
        "# Read image\n",
        "image = cv2.imread(image_path)\n",
        "gray = cv2.cvtColor(image, cv2.COLOR_BGR2GRAY)\n",
        "\n",
        "# Preprocess\n",
        "blur = cv2.GaussianBlur(gray, (5, 5), 0)\n",
        "_, thresh = cv2.threshold(blur, 0, 255, cv2.THRESH_BINARY_INV + cv2.THRESH_OTSU)\n",
        "\n",
        "# Find drops\n",
        "contours, _ = cv2.findContours(thresh, cv2.RETR_EXTERNAL, cv2.CHAIN_APPROX_SIMPLE)\n",
        "centers = []\n",
        "for cnt in contours:\n",
        "    area = cv2.contourArea(cnt)\n",
        "    if area < 10:  # ignore very small specks\n",
        "        continue\n",
        "    (x, y), radius = cv2.minEnclosingCircle(cnt)\n",
        "    centers.append((x, y))\n",
        "    cv2.circle(image, (int(x), int(y)), int(radius), (0, 255, 0), 2)\n",
        "\n",
        "# Distances between drops\n",
        "for i in range(len(centers)):\n",
        "    for j in range(i+1, len(centers)):\n",
        "        dist = distance.euclidean(centers[i], centers[j])\n",
        "        print(f\"Drop {i} to {j}: {dist:.2f} pixels\")\n",
        "\n",
        "# Show result\n",
        "plt.imshow(cv2.cvtColor(image, cv2.COLOR_BGR2RGB))\n",
        "plt.axis(\"off\")\n",
        "plt.show()\n"
      ],
      "metadata": {
        "id": "60hrmzs-uEQU"
      },
      "execution_count": null,
      "outputs": []
    }
  ]
}